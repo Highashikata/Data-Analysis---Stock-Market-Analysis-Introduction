{
 "metadata": {
  "language_info": {
   "codemirror_mode": {
    "name": "ipython",
    "version": 3
   },
   "file_extension": ".py",
   "mimetype": "text/x-python",
   "name": "python",
   "nbconvert_exporter": "python",
   "pygments_lexer": "ipython3",
   "version": "3.8.2-final"
  },
  "orig_nbformat": 2,
  "kernelspec": {
   "name": "python3",
   "display_name": "Python 3.8.2 64-bit",
   "metadata": {
    "interpreter": {
     "hash": "2db524e06e9f5f4ffedc911c917cb75e12dbc923643829bf417064a77eb14d37"
    }
   }
  }
 },
 "nbformat": 4,
 "nbformat_minor": 2,
 "cells": [
  {
   "source": [
    "#### **Project : Stock Market Analysis & Markovitch Efficient Frontier** "
   ],
   "cell_type": "markdown",
   "metadata": {}
  },
  {
   "cell_type": "code",
   "execution_count": 34,
   "metadata": {},
   "outputs": [],
   "source": [
    "# Importing Useful Libraries for Stock Reading\n",
    "import pandas_datareader.data as web\n",
    "import datetime\n",
    "import pandas as pd\n",
    "import numpy as np"
   ]
  },
  {
   "cell_type": "code",
   "execution_count": 9,
   "metadata": {},
   "outputs": [],
   "source": [
    "start = datetime.datetime(2021, 1, 1)\n",
    "end = datetime.datetime(2021, 12, 31)"
   ]
  },
  {
   "source": [
    "From now on we will choose the following 4 stocks to analyse our portfolio *CEVA* *GOOGLE* *TESLA* and *ZOMEDICA*"
   ],
   "cell_type": "markdown",
   "metadata": {}
  },
  {
   "cell_type": "code",
   "execution_count": 28,
   "metadata": {},
   "outputs": [],
   "source": [
    "## Defining our Stocks\n",
    "ceva = web.DataReader('CEVA', 'yahoo', start, end)\n",
    "google = web.DataReader('GOOGL', 'yahoo', start, end)\n",
    "tesla = web.DataReader('TSLA', 'yahoo', start, end)\n",
    "apple = web.DataReader('AAPL', 'yahoo', start, end)"
   ]
  },
  {
   "cell_type": "code",
   "execution_count": 29,
   "metadata": {},
   "outputs": [
    {
     "output_type": "display_data",
     "data": {
      "text/plain": "'The Shape of the                  High        Low       Open      Close  Volume  Adj Close\\nDate                                                                     \\n2021-01-04  48.040001  43.570000  46.000000  44.720001  280700  44.720001\\n2021-01-05  47.009998  44.090000  44.090000  46.430000  229300  46.430000\\n2021-01-06  48.790001  46.740002  47.060001  48.160000  234700  48.160000\\n2021-01-07  50.860001  49.110001  49.930000  50.700001  342700  50.700001\\n2021-01-08  51.939999  50.099998  51.330002  50.910000  179600  50.910000\\n...               ...        ...        ...        ...     ...        ...\\n2021-12-27  45.459999  44.169998  44.560001  45.380001   79000  45.380001\\n2021-12-28  45.980000  43.689999  45.389999  44.060001   80900  44.060001\\n2021-12-29  44.490002  43.380001  43.610001  43.990002   76300  43.990002\\n2021-12-30  44.930000  43.180000  43.810001  43.570000   96900  43.570000\\n2021-12-31  44.009998  43.020000  44.009998  43.240002   99000  43.240002\\n\\n[252 rows x 6 columns] DataSet is : '"
     },
     "metadata": {}
    },
    {
     "output_type": "display_data",
     "data": {
      "text/plain": "'The Shape of the                    High          Low         Open        Close   Volume  \\\\\\nDate                                                                      \\n2021-01-04  1762.489990  1707.140015  1760.000000  1726.130005  1866200   \\n2021-01-05  1746.829956  1716.900024  1725.089966  1740.050049  1018000   \\n2021-01-06  1743.969971  1696.099976  1700.260010  1722.880005  2329400   \\n2021-01-07  1777.819946  1726.760010  1726.760010  1774.339966  2096800   \\n2021-01-08  1799.359985  1761.219971  1777.160034  1797.829956  1774200   \\n...                 ...          ...          ...          ...      ...   \\n2021-12-27  2966.879883  2943.389893  2945.120117  2958.129883   798800   \\n2021-12-28  2965.979980  2921.090088  2964.719971  2933.739990   910000   \\n2021-12-29  2948.340088  2912.949951  2932.889893  2933.100098   889400   \\n2021-12-30  2946.000000  2919.889893  2933.879883  2924.010010   784400   \\n2021-12-31  2933.969971  2897.040039  2921.000000  2897.040039   906200   \\n\\n              Adj Close  \\nDate                     \\n2021-01-04  1726.130005  \\n2021-01-05  1740.050049  \\n2021-01-06  1722.880005  \\n2021-01-07  1774.339966  \\n2021-01-08  1797.829956  \\n...                 ...  \\n2021-12-27  2958.129883  \\n2021-12-28  2933.739990  \\n2021-12-29  2933.100098  \\n2021-12-30  2924.010010  \\n2021-12-31  2897.040039  \\n\\n[252 rows x 6 columns] DataSet is : '"
     },
     "metadata": {}
    },
    {
     "output_type": "display_data",
     "data": {
      "text/plain": "'The Shape of the                    High          Low         Open        Close    Volume  \\\\\\nDate                                                                       \\n2021-01-04   744.489990   717.190002   719.460022   729.770020  48638200   \\n2021-01-05   740.840027   719.200012   723.659973   735.109985  32245200   \\n2021-01-06   774.000000   749.099976   758.489990   755.979980  44700000   \\n2021-01-07   816.989990   775.200012   777.630005   816.039978  51498900   \\n2021-01-08   884.489990   838.390015   856.000000   880.020020  75055500   \\n...                 ...          ...          ...          ...       ...   \\n2021-12-27  1117.000000  1070.719971  1073.670044  1093.939941  23715300   \\n2021-12-28  1119.000000  1078.420044  1109.489990  1088.469971  20108000   \\n2021-12-29  1104.000000  1064.140015  1098.640015  1086.189941  18718000   \\n2021-12-30  1095.550049  1053.150024  1061.329956  1070.339966  15680300   \\n2021-12-31  1082.000000  1054.589966  1073.439941  1056.780029  13528700   \\n\\n              Adj Close  \\nDate                     \\n2021-01-04   729.770020  \\n2021-01-05   735.109985  \\n2021-01-06   755.979980  \\n2021-01-07   816.039978  \\n2021-01-08   880.020020  \\n...                 ...  \\n2021-12-27  1093.939941  \\n2021-12-28  1088.469971  \\n2021-12-29  1086.189941  \\n2021-12-30  1070.339966  \\n2021-12-31  1056.780029  \\n\\n[252 rows x 6 columns] DataSet is : '"
     },
     "metadata": {}
    },
    {
     "output_type": "display_data",
     "data": {
      "text/plain": "'The Shape of the                   High         Low        Open       Close       Volume  \\\\\\nDate                                                                      \\n2021-01-04  133.610001  126.760002  133.520004  129.410004  143301900.0   \\n2021-01-05  131.740005  128.429993  128.889999  131.009995   97664900.0   \\n2021-01-06  131.050003  126.379997  127.720001  126.599998  155088000.0   \\n2021-01-07  131.630005  127.860001  128.360001  130.919998  109578200.0   \\n2021-01-08  132.630005  130.229996  132.429993  132.050003  105158200.0   \\n...                ...         ...         ...         ...          ...   \\n2021-12-27  180.419998  177.070007  177.089996  180.330002   74919600.0   \\n2021-12-28  181.330002  178.529999  180.160004  179.289993   79144300.0   \\n2021-12-29  180.630005  178.139999  179.330002  179.380005   62348900.0   \\n2021-12-30  180.570007  178.089996  179.470001  178.199997   59773000.0   \\n2021-12-31  179.229996  177.259995  178.089996  177.570007   64025500.0   \\n\\n             Adj Close  \\nDate                    \\n2021-01-04  128.617096  \\n2021-01-05  130.207306  \\n2021-01-06  125.824318  \\n2021-01-07  130.117859  \\n2021-01-08  131.240921  \\n...                ...  \\n2021-12-27  180.330002  \\n2021-12-28  179.289993  \\n2021-12-29  179.380005  \\n2021-12-30  178.199997  \\n2021-12-31  177.570007  \\n\\n[252 rows x 6 columns] DataSet is : '"
     },
     "metadata": {}
    }
   ],
   "source": [
    "### Checking for the form of our Stocks\n",
    "Stocks = [ceva, google, tesla, apple]\n",
    "\n",
    "### Diplaying our Stocks \n",
    "for stock in Stocks:\n",
    "    display(\"The Shape of the {} DataSet is : \".format(stock, stock.shape), )"
   ]
  },
  {
   "cell_type": "code",
   "execution_count": 30,
   "metadata": {},
   "outputs": [
    {
     "output_type": "execute_result",
     "data": {
      "text/plain": [
       "                 CEVA       GOOGLE       APPLE        TESLA\n",
       "Date                                                       \n",
       "2021-01-04  44.720001  1726.130005  129.410004   729.770020\n",
       "2021-01-05  46.430000  1740.050049  131.009995   735.109985\n",
       "2021-01-06  48.160000  1722.880005  126.599998   755.979980\n",
       "2021-01-07  50.700001  1774.339966  130.919998   816.039978\n",
       "2021-01-08  50.910000  1797.829956  132.050003   880.020020\n",
       "...               ...          ...         ...          ...\n",
       "2021-12-27  45.380001  2958.129883  180.330002  1093.939941\n",
       "2021-12-28  44.060001  2933.739990  179.289993  1088.469971\n",
       "2021-12-29  43.990002  2933.100098  179.380005  1086.189941\n",
       "2021-12-30  43.570000  2924.010010  178.199997  1070.339966\n",
       "2021-12-31  43.240002  2897.040039  177.570007  1056.780029\n",
       "\n",
       "[252 rows x 4 columns]"
      ],
      "text/html": "<div>\n<style scoped>\n    .dataframe tbody tr th:only-of-type {\n        vertical-align: middle;\n    }\n\n    .dataframe tbody tr th {\n        vertical-align: top;\n    }\n\n    .dataframe thead th {\n        text-align: right;\n    }\n</style>\n<table border=\"1\" class=\"dataframe\">\n  <thead>\n    <tr style=\"text-align: right;\">\n      <th></th>\n      <th>CEVA</th>\n      <th>GOOGLE</th>\n      <th>APPLE</th>\n      <th>TESLA</th>\n    </tr>\n    <tr>\n      <th>Date</th>\n      <th></th>\n      <th></th>\n      <th></th>\n      <th></th>\n    </tr>\n  </thead>\n  <tbody>\n    <tr>\n      <th>2021-01-04</th>\n      <td>44.720001</td>\n      <td>1726.130005</td>\n      <td>129.410004</td>\n      <td>729.770020</td>\n    </tr>\n    <tr>\n      <th>2021-01-05</th>\n      <td>46.430000</td>\n      <td>1740.050049</td>\n      <td>131.009995</td>\n      <td>735.109985</td>\n    </tr>\n    <tr>\n      <th>2021-01-06</th>\n      <td>48.160000</td>\n      <td>1722.880005</td>\n      <td>126.599998</td>\n      <td>755.979980</td>\n    </tr>\n    <tr>\n      <th>2021-01-07</th>\n      <td>50.700001</td>\n      <td>1774.339966</td>\n      <td>130.919998</td>\n      <td>816.039978</td>\n    </tr>\n    <tr>\n      <th>2021-01-08</th>\n      <td>50.910000</td>\n      <td>1797.829956</td>\n      <td>132.050003</td>\n      <td>880.020020</td>\n    </tr>\n    <tr>\n      <th>...</th>\n      <td>...</td>\n      <td>...</td>\n      <td>...</td>\n      <td>...</td>\n    </tr>\n    <tr>\n      <th>2021-12-27</th>\n      <td>45.380001</td>\n      <td>2958.129883</td>\n      <td>180.330002</td>\n      <td>1093.939941</td>\n    </tr>\n    <tr>\n      <th>2021-12-28</th>\n      <td>44.060001</td>\n      <td>2933.739990</td>\n      <td>179.289993</td>\n      <td>1088.469971</td>\n    </tr>\n    <tr>\n      <th>2021-12-29</th>\n      <td>43.990002</td>\n      <td>2933.100098</td>\n      <td>179.380005</td>\n      <td>1086.189941</td>\n    </tr>\n    <tr>\n      <th>2021-12-30</th>\n      <td>43.570000</td>\n      <td>2924.010010</td>\n      <td>178.199997</td>\n      <td>1070.339966</td>\n    </tr>\n    <tr>\n      <th>2021-12-31</th>\n      <td>43.240002</td>\n      <td>2897.040039</td>\n      <td>177.570007</td>\n      <td>1056.780029</td>\n    </tr>\n  </tbody>\n</table>\n<p>252 rows × 4 columns</p>\n</div>"
     },
     "metadata": {},
     "execution_count": 30
    }
   ],
   "source": [
    "### Concatenate our Stocks data to a single pandas DataFrame to be easily manipulable\n",
    "stocks = pd.concat([ceva['Close'], google['Close'], apple['Close'], tesla['Close']], axis = 1)\n",
    "stocks.columns = ['CEVA', 'GOOGLE', 'APPLE', 'TESLA']\n",
    "\n",
    "### Displaying the Stocks\n",
    "stocks"
   ]
  },
  {
   "source": [
    "Stock Returns\n",
    "$$\n",
    "r_t = \\frac{p_t}{p_{t-1}}\n",
    "$$"
   ],
   "cell_type": "markdown",
   "metadata": {}
  },
  {
   "cell_type": "code",
   "execution_count": 33,
   "metadata": {},
   "outputs": [
    {
     "output_type": "display_data",
     "data": {
      "text/plain": "                CEVA    GOOGLE     APPLE     TESLA\nDate                                              \n2021-01-04       NaN       NaN       NaN       NaN\n2021-01-05  1.038238  1.008064  1.012364  1.007317\n2021-01-06  1.037260  0.990132  0.966338  1.028390\n2021-01-07  1.052741  1.029869  1.034123  1.079447\n2021-01-08  1.004142  1.013239  1.008631  1.078403\n...              ...       ...       ...       ...\n2021-12-27  1.022533  1.006738  1.022975  1.025248\n2021-12-28  0.970912  0.991755  0.994233  0.995000\n2021-12-29  0.998411  0.999782  1.000502  0.997905\n2021-12-30  0.990452  0.996901  0.993422  0.985408\n2021-12-31  0.992426  0.990776  0.996465  0.987331\n\n[252 rows x 4 columns]",
      "text/html": "<div>\n<style scoped>\n    .dataframe tbody tr th:only-of-type {\n        vertical-align: middle;\n    }\n\n    .dataframe tbody tr th {\n        vertical-align: top;\n    }\n\n    .dataframe thead th {\n        text-align: right;\n    }\n</style>\n<table border=\"1\" class=\"dataframe\">\n  <thead>\n    <tr style=\"text-align: right;\">\n      <th></th>\n      <th>CEVA</th>\n      <th>GOOGLE</th>\n      <th>APPLE</th>\n      <th>TESLA</th>\n    </tr>\n    <tr>\n      <th>Date</th>\n      <th></th>\n      <th></th>\n      <th></th>\n      <th></th>\n    </tr>\n  </thead>\n  <tbody>\n    <tr>\n      <th>2021-01-04</th>\n      <td>NaN</td>\n      <td>NaN</td>\n      <td>NaN</td>\n      <td>NaN</td>\n    </tr>\n    <tr>\n      <th>2021-01-05</th>\n      <td>1.038238</td>\n      <td>1.008064</td>\n      <td>1.012364</td>\n      <td>1.007317</td>\n    </tr>\n    <tr>\n      <th>2021-01-06</th>\n      <td>1.037260</td>\n      <td>0.990132</td>\n      <td>0.966338</td>\n      <td>1.028390</td>\n    </tr>\n    <tr>\n      <th>2021-01-07</th>\n      <td>1.052741</td>\n      <td>1.029869</td>\n      <td>1.034123</td>\n      <td>1.079447</td>\n    </tr>\n    <tr>\n      <th>2021-01-08</th>\n      <td>1.004142</td>\n      <td>1.013239</td>\n      <td>1.008631</td>\n      <td>1.078403</td>\n    </tr>\n    <tr>\n      <th>...</th>\n      <td>...</td>\n      <td>...</td>\n      <td>...</td>\n      <td>...</td>\n    </tr>\n    <tr>\n      <th>2021-12-27</th>\n      <td>1.022533</td>\n      <td>1.006738</td>\n      <td>1.022975</td>\n      <td>1.025248</td>\n    </tr>\n    <tr>\n      <th>2021-12-28</th>\n      <td>0.970912</td>\n      <td>0.991755</td>\n      <td>0.994233</td>\n      <td>0.995000</td>\n    </tr>\n    <tr>\n      <th>2021-12-29</th>\n      <td>0.998411</td>\n      <td>0.999782</td>\n      <td>1.000502</td>\n      <td>0.997905</td>\n    </tr>\n    <tr>\n      <th>2021-12-30</th>\n      <td>0.990452</td>\n      <td>0.996901</td>\n      <td>0.993422</td>\n      <td>0.985408</td>\n    </tr>\n    <tr>\n      <th>2021-12-31</th>\n      <td>0.992426</td>\n      <td>0.990776</td>\n      <td>0.996465</td>\n      <td>0.987331</td>\n    </tr>\n  </tbody>\n</table>\n<p>252 rows × 4 columns</p>\n</div>"
     },
     "metadata": {}
    }
   ],
   "source": [
    "### Compyting the Returns\n",
    "returns = stocks/stocks.shift(1)\n",
    "\n",
    "display(returns)"
   ]
  },
  {
   "source": [
    "The Log Stock Returns \n",
    "$$\n",
    "    log(r_t) = log \\frac{p_t}{p_{t-1}}\n",
    "$$"
   ],
   "cell_type": "markdown",
   "metadata": {}
  },
  {
   "cell_type": "code",
   "execution_count": 36,
   "metadata": {},
   "outputs": [
    {
     "output_type": "display_data",
     "data": {
      "text/plain": "                CEVA    GOOGLE     APPLE     TESLA\nDate                                              \n2021-01-04       NaN       NaN       NaN       NaN\n2021-01-05  0.037525  0.008032  0.012288  0.007291\n2021-01-06  0.036583 -0.009917 -0.034241  0.027995\n2021-01-07  0.051397  0.029431  0.033554  0.076448\n2021-01-08  0.004133  0.013152  0.008594  0.075481\n...              ...       ...       ...       ...\n2021-12-27  0.022283  0.006716  0.022715  0.024935\n2021-12-28 -0.029519 -0.008279 -0.005784 -0.005013\n2021-12-29 -0.001590 -0.000218  0.000502 -0.002097\n2021-12-30 -0.009594 -0.003104 -0.006600 -0.014700\n2021-12-31 -0.007603 -0.009266 -0.003542 -0.012750\n\n[252 rows x 4 columns]",
      "text/html": "<div>\n<style scoped>\n    .dataframe tbody tr th:only-of-type {\n        vertical-align: middle;\n    }\n\n    .dataframe tbody tr th {\n        vertical-align: top;\n    }\n\n    .dataframe thead th {\n        text-align: right;\n    }\n</style>\n<table border=\"1\" class=\"dataframe\">\n  <thead>\n    <tr style=\"text-align: right;\">\n      <th></th>\n      <th>CEVA</th>\n      <th>GOOGLE</th>\n      <th>APPLE</th>\n      <th>TESLA</th>\n    </tr>\n    <tr>\n      <th>Date</th>\n      <th></th>\n      <th></th>\n      <th></th>\n      <th></th>\n    </tr>\n  </thead>\n  <tbody>\n    <tr>\n      <th>2021-01-04</th>\n      <td>NaN</td>\n      <td>NaN</td>\n      <td>NaN</td>\n      <td>NaN</td>\n    </tr>\n    <tr>\n      <th>2021-01-05</th>\n      <td>0.037525</td>\n      <td>0.008032</td>\n      <td>0.012288</td>\n      <td>0.007291</td>\n    </tr>\n    <tr>\n      <th>2021-01-06</th>\n      <td>0.036583</td>\n      <td>-0.009917</td>\n      <td>-0.034241</td>\n      <td>0.027995</td>\n    </tr>\n    <tr>\n      <th>2021-01-07</th>\n      <td>0.051397</td>\n      <td>0.029431</td>\n      <td>0.033554</td>\n      <td>0.076448</td>\n    </tr>\n    <tr>\n      <th>2021-01-08</th>\n      <td>0.004133</td>\n      <td>0.013152</td>\n      <td>0.008594</td>\n      <td>0.075481</td>\n    </tr>\n    <tr>\n      <th>...</th>\n      <td>...</td>\n      <td>...</td>\n      <td>...</td>\n      <td>...</td>\n    </tr>\n    <tr>\n      <th>2021-12-27</th>\n      <td>0.022283</td>\n      <td>0.006716</td>\n      <td>0.022715</td>\n      <td>0.024935</td>\n    </tr>\n    <tr>\n      <th>2021-12-28</th>\n      <td>-0.029519</td>\n      <td>-0.008279</td>\n      <td>-0.005784</td>\n      <td>-0.005013</td>\n    </tr>\n    <tr>\n      <th>2021-12-29</th>\n      <td>-0.001590</td>\n      <td>-0.000218</td>\n      <td>0.000502</td>\n      <td>-0.002097</td>\n    </tr>\n    <tr>\n      <th>2021-12-30</th>\n      <td>-0.009594</td>\n      <td>-0.003104</td>\n      <td>-0.006600</td>\n      <td>-0.014700</td>\n    </tr>\n    <tr>\n      <th>2021-12-31</th>\n      <td>-0.007603</td>\n      <td>-0.009266</td>\n      <td>-0.003542</td>\n      <td>-0.012750</td>\n    </tr>\n  </tbody>\n</table>\n<p>252 rows × 4 columns</p>\n</div>"
     },
     "metadata": {}
    },
    {
     "output_type": "display_data",
     "data": {
      "text/plain": "(252, 4)"
     },
     "metadata": {}
    }
   ],
   "source": [
    "### Computing the Log Returns \n",
    "LogReturns = np.log(returns)\n",
    "\n",
    "### Displaying the Log Returns DataFrame\n",
    "display(LogReturns, LogReturns.shape)"
   ]
  },
  {
   "source": [
    "Sharpe Ratio : The Sharpe ratio was developed by Nobel laureate **William F. Sharpe (American Economist)** and is used to help investors understand the return of an investment compared to its risk. The ratio is the average return earned in excess of the risk-free rate per unit of volatility or total risk. Volatility is a measure of the price fluctuations of an asset or portfolio.\n",
    "\n",
    "$$\n",
    "SR(\\omega) = \\frac{R(\\omega) - R_f}{\\sigma(\\omega)}\n",
    "$$\n",
    "\n",
    "**Where :**\n",
    "- **$ R(\\omega) $** : The Return with Risk of the Weight $\\omega$.\n",
    "- **$ R_f $** : The Risk Free Return , which means the Return in an ideal scenario, where we have no risk.\n",
    "- **$\\sigma (\\omega) $** : The Variance or the Volatility."
   ],
   "cell_type": "markdown",
   "metadata": {}
  },
  {
   "source": [
    "The Weight Vector of the Portfolio : \n",
    "$$\\omega = Vector(\\omega1, \\omega2, \\omega3, \\omega4)$$.\n",
    "\n",
    "**WHERE** : $$ \\sum\\limits_{k = 1}^{4} \\omega_k = 1$$"
   ],
   "cell_type": "markdown",
   "metadata": {}
  },
  {
   "cell_type": "code",
   "execution_count": null,
   "metadata": {},
   "outputs": [],
   "source": []
  },
  {
   "cell_type": "code",
   "execution_count": null,
   "metadata": {},
   "outputs": [],
   "source": []
  }
 ]
}